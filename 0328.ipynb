{
  "nbformat": 4,
  "nbformat_minor": 0,
  "metadata": {
    "colab": {
      "name": "0328.ipynb",
      "provenance": [],
      "authorship_tag": "ABX9TyNhKamHQUeN2Nd8HiedyOzG",
      "include_colab_link": true
    },
    "kernelspec": {
      "name": "python3",
      "display_name": "Python 3"
    },
    "language_info": {
      "name": "python"
    }
  },
  "cells": [
    {
      "cell_type": "markdown",
      "metadata": {
        "id": "view-in-github",
        "colab_type": "text"
      },
      "source": [
        "<a href=\"https://colab.research.google.com/github/huinichiang/introdction-to-computer/blob/main/0328.ipynb\" target=\"_parent\"><img src=\"https://colab.research.google.com/assets/colab-badge.svg\" alt=\"Open In Colab\"/></a>"
      ]
    },
    {
      "cell_type": "code",
      "execution_count": 1,
      "metadata": {
        "colab": {
          "base_uri": "https://localhost:8080/"
        },
        "id": "ZCYgtMzi6_ER",
        "outputId": "6cf32fc1-bbf1-4c69-a84c-9a7afd710afd"
      },
      "outputs": [
        {
          "output_type": "stream",
          "name": "stdout",
          "text": [
            "Hi\n"
          ]
        }
      ],
      "source": [
        "print('Hi')"
      ]
    },
    {
      "cell_type": "code",
      "source": [
        "34%3"
      ],
      "metadata": {
        "colab": {
          "base_uri": "https://localhost:8080/"
        },
        "id": "9gys8NU97MGB",
        "outputId": "f267fa2b-f651-4ed8-ddd3-a936a2140820"
      },
      "execution_count": 2,
      "outputs": [
        {
          "output_type": "execute_result",
          "data": {
            "text/plain": [
              "1"
            ]
          },
          "metadata": {},
          "execution_count": 2
        }
      ]
    },
    {
      "cell_type": "code",
      "source": [
        "3**2"
      ],
      "metadata": {
        "colab": {
          "base_uri": "https://localhost:8080/"
        },
        "id": "CpJsJGzt7Rxp",
        "outputId": "f699b55f-4e37-446c-81f9-19640bf685d1"
      },
      "execution_count": 3,
      "outputs": [
        {
          "output_type": "execute_result",
          "data": {
            "text/plain": [
              "9"
            ]
          },
          "metadata": {},
          "execution_count": 3
        }
      ]
    },
    {
      "cell_type": "code",
      "source": [
        "3**3"
      ],
      "metadata": {
        "colab": {
          "base_uri": "https://localhost:8080/"
        },
        "id": "pIXd7jb97UQZ",
        "outputId": "8ac1010d-94f4-4659-f4a6-33df11ff420a"
      },
      "execution_count": 4,
      "outputs": [
        {
          "output_type": "execute_result",
          "data": {
            "text/plain": [
              "27"
            ]
          },
          "metadata": {},
          "execution_count": 4
        }
      ]
    },
    {
      "cell_type": "code",
      "source": [
        "上底=int(input('請輸入梯形上底長度:'))\n",
        "下底=int(input('請輸入梯形下底長度:'))\n",
        "高=int(input('請輸入梯形高的長度:'))\n",
        "面積=(上底+下底)*高/2"
      ],
      "metadata": {
        "colab": {
          "base_uri": "https://localhost:8080/"
        },
        "id": "YLwWKvEB7YHq",
        "outputId": "f16c7f99-4dc9-4b54-a012-937ffb71631a"
      },
      "execution_count": 6,
      "outputs": [
        {
          "name": "stdout",
          "output_type": "stream",
          "text": [
            "請輸入梯形上底長度:3\n",
            "請輸入梯形下底長度:4\n",
            "請輸入梯形高的長度:3\n"
          ]
        }
      ]
    },
    {
      "cell_type": "code",
      "source": [
        "面積"
      ],
      "metadata": {
        "colab": {
          "base_uri": "https://localhost:8080/"
        },
        "id": "Ln_I8JV58Ap_",
        "outputId": "8bbf7098-6bd8-4d77-ef3d-80c8cece1842"
      },
      "execution_count": 7,
      "outputs": [
        {
          "output_type": "execute_result",
          "data": {
            "text/plain": [
              "10.5"
            ]
          },
          "metadata": {},
          "execution_count": 7
        }
      ]
    },
    {
      "cell_type": "code",
      "source": [
        "上底=int(input('請輸入梯形上底長度:'))\n",
        "下底=int(input('請輸入梯形下底長度:'))\n",
        "高=int(input('請輸入梯形高的長度:'))\n",
        "面積=(上底+下底)*高/2\n",
        "print('梯形上底高度為:',上底,'梯形上底高度為:',下底,'梯形高度為:',高,'梯形面積為:',面積)"
      ],
      "metadata": {
        "colab": {
          "base_uri": "https://localhost:8080/"
        },
        "id": "PbYEMBYR8FeO",
        "outputId": "d05f23ef-2bb1-4daa-b8b9-14d0307da67e"
      },
      "execution_count": 9,
      "outputs": [
        {
          "output_type": "stream",
          "name": "stdout",
          "text": [
            "請輸入梯形上底長度:3\n",
            "請輸入梯形下底長度:4\n",
            "請輸入梯形高的長度:3\n",
            "梯形上底高度為: 3 梯形上底高度為: 4 梯形高度為: 3 梯形面積為: 10.5\n"
          ]
        }
      ]
    },
    {
      "cell_type": "code",
      "source": [
        "print('梯形上底高度為:%d,梯形上底高度為:%d,梯形高度為:%d,梯形面積為:%d'%(上底,下底,高,面積))"
      ],
      "metadata": {
        "colab": {
          "base_uri": "https://localhost:8080/"
        },
        "id": "-qNx0bnQ9EPZ",
        "outputId": "8ed21114-2485-4d3c-f078-2c5176163458"
      },
      "execution_count": 11,
      "outputs": [
        {
          "output_type": "stream",
          "name": "stdout",
          "text": [
            "梯形上底高度為:3,梯形上底高度為:4,梯形高度為:3,梯形面積為:10\n"
          ]
        }
      ]
    },
    {
      "cell_type": "code",
      "source": [
        "print('梯形上底高度為:%d,梯形上底高度為:%d,梯形高度為:%d,梯形面積為:%f'%(上底,下底,高,面積))"
      ],
      "metadata": {
        "colab": {
          "base_uri": "https://localhost:8080/"
        },
        "id": "8ro7QOF592tO",
        "outputId": "6cbca13b-95a5-45b9-b4e2-cfdeff47e1f2"
      },
      "execution_count": 12,
      "outputs": [
        {
          "output_type": "stream",
          "name": "stdout",
          "text": [
            "梯形上底高度為:3,梯形上底高度為:4,梯形高度為:3,梯形面積為:10.500000\n"
          ]
        }
      ]
    },
    {
      "cell_type": "code",
      "source": [
        "print('梯形上底高度為:%d,梯形上底高度為:%d,梯形高度為:%d,梯形面積為:%0.2f'%(上底,下底,高,面積))"
      ],
      "metadata": {
        "colab": {
          "base_uri": "https://localhost:8080/"
        },
        "id": "4iUoXbU_98p4",
        "outputId": "2d441197-291c-4c08-ac6f-0ef9590ebbd8"
      },
      "execution_count": 13,
      "outputs": [
        {
          "output_type": "stream",
          "name": "stdout",
          "text": [
            "梯形上底高度為:3,梯形上底高度為:4,梯形高度為:3,梯形面積為:10.50\n"
          ]
        }
      ]
    },
    {
      "cell_type": "code",
      "source": [
        "a=1.1\n",
        "b=2.02\n",
        "c=3.003"
      ],
      "metadata": {
        "id": "Jlu4imQE-A5A"
      },
      "execution_count": 14,
      "outputs": []
    },
    {
      "cell_type": "code",
      "source": [
        "print('a=%0.1f,b=%0.2f,c=%0.3f'%(a,b,c))"
      ],
      "metadata": {
        "colab": {
          "base_uri": "https://localhost:8080/"
        },
        "id": "smoNSKLQ-HTI",
        "outputId": "7cec68b0-13cc-4eb9-ef1c-bd1b4238776f"
      },
      "execution_count": 16,
      "outputs": [
        {
          "output_type": "stream",
          "name": "stdout",
          "text": [
            "a=1.1,b=2.02,c=3.003\n"
          ]
        }
      ]
    },
    {
      "cell_type": "code",
      "source": [
        "6+9==2+13"
      ],
      "metadata": {
        "colab": {
          "base_uri": "https://localhost:8080/"
        },
        "id": "Dk0rSnMF-hzH",
        "outputId": "fb499010-fbb7-4b98-c35b-e4f62eb7e0e8"
      },
      "execution_count": 17,
      "outputs": [
        {
          "output_type": "execute_result",
          "data": {
            "text/plain": [
              "True"
            ]
          },
          "metadata": {},
          "execution_count": 17
        }
      ]
    },
    {
      "cell_type": "code",
      "source": [
        "8+9==2+13"
      ],
      "metadata": {
        "colab": {
          "base_uri": "https://localhost:8080/"
        },
        "id": "xtDDl9gI-mx4",
        "outputId": "c3c04cd9-9e46-4e3e-d901-562d83d737ff"
      },
      "execution_count": 18,
      "outputs": [
        {
          "output_type": "execute_result",
          "data": {
            "text/plain": [
              "False"
            ]
          },
          "metadata": {},
          "execution_count": 18
        }
      ]
    },
    {
      "cell_type": "code",
      "source": [
        "8+9>2+13"
      ],
      "metadata": {
        "colab": {
          "base_uri": "https://localhost:8080/"
        },
        "id": "DWRzn9lu-p0c",
        "outputId": "db17fdaa-d1be-4651-8290-2af82c0285f2"
      },
      "execution_count": 19,
      "outputs": [
        {
          "output_type": "execute_result",
          "data": {
            "text/plain": [
              "True"
            ]
          },
          "metadata": {},
          "execution_count": 19
        }
      ]
    },
    {
      "cell_type": "code",
      "source": [
        "5+9<2+13"
      ],
      "metadata": {
        "colab": {
          "base_uri": "https://localhost:8080/"
        },
        "id": "9Q6lbmt6-uPk",
        "outputId": "e6a6f4eb-ca05-4db6-dd92-084ebe9b9c6b"
      },
      "execution_count": 20,
      "outputs": [
        {
          "output_type": "execute_result",
          "data": {
            "text/plain": [
              "True"
            ]
          },
          "metadata": {},
          "execution_count": 20
        }
      ]
    },
    {
      "cell_type": "code",
      "source": [
        "8+9<2+13"
      ],
      "metadata": {
        "colab": {
          "base_uri": "https://localhost:8080/"
        },
        "id": "T0A8bZWk-xGs",
        "outputId": "e4933f97-7614-4181-87a6-c55ebfc8bf48"
      },
      "execution_count": 21,
      "outputs": [
        {
          "output_type": "execute_result",
          "data": {
            "text/plain": [
              "False"
            ]
          },
          "metadata": {},
          "execution_count": 21
        }
      ]
    },
    {
      "cell_type": "code",
      "source": [
        "6+9>=2+13"
      ],
      "metadata": {
        "colab": {
          "base_uri": "https://localhost:8080/"
        },
        "id": "gc8UxQSN-0bt",
        "outputId": "567f69b9-7839-4f91-8230-d8c5b3c1ccac"
      },
      "execution_count": 22,
      "outputs": [
        {
          "output_type": "execute_result",
          "data": {
            "text/plain": [
              "True"
            ]
          },
          "metadata": {},
          "execution_count": 22
        }
      ]
    },
    {
      "cell_type": "code",
      "source": [
        "3+9>=2+13"
      ],
      "metadata": {
        "colab": {
          "base_uri": "https://localhost:8080/"
        },
        "id": "R8aBfsNi-5m4",
        "outputId": "502b2d02-0523-43a6-cec7-8477e9e744c5"
      },
      "execution_count": 23,
      "outputs": [
        {
          "output_type": "execute_result",
          "data": {
            "text/plain": [
              "False"
            ]
          },
          "metadata": {},
          "execution_count": 23
        }
      ]
    },
    {
      "cell_type": "code",
      "source": [
        "3+9<=2+13"
      ],
      "metadata": {
        "colab": {
          "base_uri": "https://localhost:8080/"
        },
        "id": "7oELLmsM-_po",
        "outputId": "36025d3e-e1f4-4301-aef5-c5122f7bfe8e"
      },
      "execution_count": 24,
      "outputs": [
        {
          "output_type": "execute_result",
          "data": {
            "text/plain": [
              "True"
            ]
          },
          "metadata": {},
          "execution_count": 24
        }
      ]
    },
    {
      "cell_type": "code",
      "source": [
        "8+9<=2+13"
      ],
      "metadata": {
        "colab": {
          "base_uri": "https://localhost:8080/"
        },
        "id": "sK-Anfvi_DeQ",
        "outputId": "df302b31-98a7-4744-b99c-58b8c8dc6c50"
      },
      "execution_count": 25,
      "outputs": [
        {
          "output_type": "execute_result",
          "data": {
            "text/plain": [
              "False"
            ]
          },
          "metadata": {},
          "execution_count": 25
        }
      ]
    }
  ]
}