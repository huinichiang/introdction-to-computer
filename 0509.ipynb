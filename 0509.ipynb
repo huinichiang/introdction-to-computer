{
  "nbformat": 4,
  "nbformat_minor": 0,
  "metadata": {
    "colab": {
      "name": "0509.ipynb",
      "provenance": [],
      "collapsed_sections": [],
      "authorship_tag": "ABX9TyNL5Hn7IPKZ5JUcqFL/X2WR",
      "include_colab_link": true
    },
    "kernelspec": {
      "name": "python3",
      "display_name": "Python 3"
    },
    "language_info": {
      "name": "python"
    }
  },
  "cells": [
    {
      "cell_type": "markdown",
      "metadata": {
        "id": "view-in-github",
        "colab_type": "text"
      },
      "source": [
        "<a href=\"https://colab.research.google.com/github/huinichiang/introdction-to-computer/blob/main/0509.ipynb\" target=\"_parent\"><img src=\"https://colab.research.google.com/assets/colab-badge.svg\" alt=\"Open In Colab\"/></a>"
      ]
    },
    {
      "cell_type": "code",
      "execution_count": 1,
      "metadata": {
        "colab": {
          "base_uri": "https://localhost:8080/"
        },
        "id": "4k12b3in8mVG",
        "outputId": "fc297489-0ffa-4e34-f154-e88303597b9b"
      },
      "outputs": [
        {
          "output_type": "stream",
          "name": "stdout",
          "text": [
            "123\n"
          ]
        }
      ],
      "source": [
        "print(\"123\")"
      ]
    },
    {
      "cell_type": "code",
      "source": [
        "temp=float(input(\"請輸入你的體溫\"))\n",
        "if temp>=37.5:\n",
        "    print(\"體溫過高！\")\n",
        "elif temp >=37 and temp<37.4:\n",
        "    print(\"體溫略高！\")\n",
        "elif temp>=34 and temp<=36.9:\n",
        "    print(\"體溫正常！\")\n",
        "else:\n",
        "    print(\"體溫異常，請重新量測！\")"
      ],
      "metadata": {
        "colab": {
          "base_uri": "https://localhost:8080/"
        },
        "id": "4C25W9j187nq",
        "outputId": "0a827819-9fda-4853-fb15-7757a9e832e7"
      },
      "execution_count": 3,
      "outputs": [
        {
          "output_type": "stream",
          "name": "stdout",
          "text": [
            "請輸入你的體溫35\n",
            "體溫正常！\n"
          ]
        }
      ]
    },
    {
      "cell_type": "code",
      "source": [
        "score=input(\"請輸入成績\")\n",
        "if(int(score)>=90):\n",
        "   print(\"A\")\n",
        "elif(int(score)>=80):\n",
        "   print(\"B\")\n",
        "elif(int(score)>=70):\n",
        "   print(\"C\")\n",
        "elif(int(score)>=60):\n",
        "   print(\"D\")\n",
        "else:\n",
        "   print(\"E\")"
      ],
      "metadata": {
        "colab": {
          "base_uri": "https://localhost:8080/"
        },
        "id": "t-fGyUQ8ETda",
        "outputId": "5482c7fa-4e83-43aa-80f3-d5b5ef2eb549"
      },
      "execution_count": 4,
      "outputs": [
        {
          "output_type": "stream",
          "name": "stdout",
          "text": [
            "請輸入成績80\n",
            "B\n"
          ]
        }
      ]
    },
    {
      "cell_type": "code",
      "source": [
        "money=int(input(\"請輸入購物金額：\"))\n",
        "if (money>=10000):\n",
        "  if(money>=100000):\n",
        "    print(\"八折\",money*0.8,end=\"元\\n\")\n",
        "  elif(money>=50000):\n",
        "    print(\"八五折\",money*0.85,end=\"元\\n\")\n",
        "  elif(money>=30000):\n",
        "    print(\"九折\",money*0.9,end=\"元\\n\")\n",
        "  else:\n",
        "    print(\"九五折\",money*0.95,end=\"元\\n\")\n",
        "else:\n",
        "  print(\"沒打折\",money,end=\"元\\n\")\n",
        "  "
      ],
      "metadata": {
        "colab": {
          "base_uri": "https://localhost:8080/"
        },
        "id": "6onyUb9rFyoF",
        "outputId": "46223725-9444-4755-8c24-02c62f875f96"
      },
      "execution_count": 5,
      "outputs": [
        {
          "output_type": "stream",
          "name": "stdout",
          "text": [
            "請輸入購物金額：40000\n",
            "九折 36000.0元\n"
          ]
        }
      ]
    },
    {
      "cell_type": "code",
      "source": [
        "month=input(\"請輸入月份\")\n",
        "if(int(month)=5or 4 or 3 ):\n",
        "  print(\"month\",\"月\",\"是春天！\")\n",
        "elif(int(month)<=8 >=6):\n",
        "  print(\"month\",\"月\",\"是夏天！\")\n",
        "elif(int(month)<=11 >=9):\n",
        "  print(\"month\",\"月\",\"是秋天！\")\n",
        "elif(int(month)<=12 >=2 ):\n",
        "  print(\"month\",\"月\",\"是冬天！\")\n",
        "else:\n",
        "  print(\"月份不在範圍內！\")"
      ],
      "metadata": {
        "colab": {
          "base_uri": "https://localhost:8080/",
          "height": 130
        },
        "id": "EeymDqpyIyLq",
        "outputId": "3ee48e07-98c2-4cd7-aa52-00977098105d"
      },
      "execution_count": 32,
      "outputs": [
        {
          "output_type": "error",
          "ename": "SyntaxError",
          "evalue": "ignored",
          "traceback": [
            "\u001b[0;36m  File \u001b[0;32m\"<ipython-input-32-f5fe6c2ab2a9>\"\u001b[0;36m, line \u001b[0;32m2\u001b[0m\n\u001b[0;31m    if(int(month)=5or 4 or 3 ):\u001b[0m\n\u001b[0m                 ^\u001b[0m\n\u001b[0;31mSyntaxError\u001b[0m\u001b[0;31m:\u001b[0m invalid syntax\n"
          ]
        }
      ]
    },
    {
      "cell_type": "code",
      "source": [
        "revenue=int(input(\"請輸入今年收入淨額：\"))\n",
        "if (revenue>=2000000):\n",
        "  if(revenue>=2000000):\n",
        "    print(\"付稅金額：\",revenue*0.3,end=\"元\\n\")\n",
        "  elif(revenue>=1000000):\n",
        "    print(\"付稅金額：\",revenue*0.21,end=\"元\\n\")\n",
        "  elif(revenue>=600000):\n",
        "    print(\"付稅金額：\",revenue*0.13,end=\"元\\n\")\n",
        "  elif(revenue>=300000):\n",
        "    print(\"付稅金額：\",revenue*0.06,end=\"元\\n\")\n",
        "else:\n",
        "  print(\"付稅金額：\",\"0元\")"
      ],
      "metadata": {
        "colab": {
          "base_uri": "https://localhost:8080/"
        },
        "id": "8MhtyieFNQ1I",
        "outputId": "602c7b57-0656-4e23-8d99-d98eda470cf0"
      },
      "execution_count": 28,
      "outputs": [
        {
          "output_type": "stream",
          "name": "stdout",
          "text": [
            "請輸入今年收入淨額：100000\n",
            "付稅金額： 0元\n"
          ]
        }
      ]
    }
  ]
}